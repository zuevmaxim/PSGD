{
 "cells": [
  {
   "cell_type": "code",
   "execution_count": null,
   "outputs": [],
   "source": [
    "import numpy as np"
   ],
   "metadata": {
    "collapsed": false
   }
  },
  {
   "cell_type": "code",
   "execution_count": null,
   "outputs": [],
   "source": [
    "def load_dataset(path):\n",
    "    points = []\n",
    "    max_index = -1\n",
    "    with open(path) as f:\n",
    "        for line in f:\n",
    "            indices = [int(s.split(':')[0]) - 1 for s in line.split(' ')[1:]]\n",
    "            points.append(indices)\n",
    "            max_index = max(max_index, max(indices))\n",
    "\n",
    "    return points, max_index + 1"
   ],
   "metadata": {
    "collapsed": false
   }
  },
  {
   "cell_type": "code",
   "execution_count": null,
   "outputs": [],
   "source": [
    "PARTS = 4"
   ],
   "metadata": {
    "collapsed": false
   }
  },
  {
   "cell_type": "code",
   "execution_count": null,
   "outputs": [],
   "source": [
    "class Dataset:\n",
    "    def __init__(self, points, features):\n",
    "        self.shape = len(points), features\n",
    "        self.points = points"
   ],
   "metadata": {
    "collapsed": false
   }
  },
  {
   "cell_type": "code",
   "execution_count": null,
   "outputs": [],
   "source": [
    "def get_column_perm(data, perm):\n",
    "    examples = np.full((PARTS, data.shape[1]), 0)\n",
    "    per_part = data.shape[0] // PARTS\n",
    "    for i in range(data.shape[0]):\n",
    "        part = min(PARTS - 1, i // per_part)\n",
    "        for index in data.points[perm[i]]:\n",
    "            examples[part, index] += 1\n",
    "    ftrs = [()] * data.shape[1]\n",
    "    for i in range(data.shape[1]):\n",
    "        s = np.sum(examples[:, i])\n",
    "        owner = np.argmax(examples[:, i])\n",
    "        if s == 0:\n",
    "            target = 0.0\n",
    "            owner = np.random.randint(0, PARTS)\n",
    "        else:\n",
    "            target = np.max(examples[:, i]) / s\n",
    "        ftrs[i] = (target, owner, i)\n",
    "    ftrs.sort(reverse=True)\n",
    "    groups = [[] for _ in range(PARTS)]\n",
    "    for _, owner, i in ftrs:\n",
    "        groups[owner].append(i)\n",
    "    owner = {}\n",
    "\n",
    "    for i in range(PARTS):\n",
    "        for f in groups[i]:\n",
    "            owner[f] = i\n",
    "    order = [i for l in groups for i in l]\n",
    "    return order, owner\n",
    "\n",
    "\n",
    "def show_dataset(dataset, perm=None, column_perm=None, alpha=0.01, beta=0.01, seed=None):\n",
    "    if seed is not None:\n",
    "        np.random.seed(seed)\n",
    "    if perm is None:\n",
    "        perm = list(range(dataset.shape[0]))\n",
    "    if column_perm is None:\n",
    "        column_perm = get_column_perm(dataset, perm)\n",
    "    v_index = np.random.choice(dataset.shape[0], int(dataset.shape[0] * alpha), replace=False)\n",
    "    v_index.sort()\n",
    "\n",
    "    h_index = set(np.random.choice(dataset.shape[1], int(dataset.shape[1] * beta), replace=False))\n",
    "    num = {}\n",
    "    for i, index in enumerate([x for x in column_perm[0] if x in h_index]):\n",
    "        num[index] = i\n",
    "\n",
    "    colors = [[255, 255, 255], [255, 0, 0], [0, 255, 0]]\n",
    "    per_part = dataset.shape[0] // PARTS\n",
    "    pic = np.full((len(v_index), len(h_index), 3), [0, 0, 0], dtype=np.uint8)\n",
    "    for ii, i in enumerate(v_index):\n",
    "        part = min(PARTS - 1, i // per_part)\n",
    "        indices = dataset.points[perm[i]]\n",
    "        for index in indices:\n",
    "            if index in h_index:\n",
    "                f_part = column_perm[1][index]\n",
    "                pic[ii, num[index]] = colors[f_part % len(colors)]\n",
    "\n",
    "    from PIL import Image\n",
    "    img = Image.fromarray(pic, 'RGB')\n",
    "    img.show()\n",
    "\n"
   ],
   "metadata": {
    "collapsed": false
   }
  },
  {
   "cell_type": "code",
   "execution_count": null,
   "outputs": [],
   "source": [
    "p, m = load_dataset(\"../data/rcv1\")\n",
    "with open(\"../permute-rcv1-2/best-final.txt\") as f:\n",
    "    permutation = [int(line) for line in f]\n",
    "    points = [p[permutation[i]] for i in range(len(p))]\n",
    "    p = points\n",
    "d = Dataset(p, m)\n",
    "show_dataset(d, seed=42, alpha=0.01, beta=0.2)"
   ],
   "metadata": {
    "collapsed": false
   }
  },
  {
   "cell_type": "code",
   "execution_count": null,
   "outputs": [],
   "source": [
    "p, m = load_dataset(\"../data/rcv1\")\n",
    "d = Dataset(p, m)\n",
    "show_dataset(d, seed=42, alpha=0.01, beta=0.2)"
   ],
   "metadata": {
    "collapsed": false
   }
  },
  {
   "cell_type": "code",
   "execution_count": null,
   "outputs": [],
   "source": [],
   "metadata": {
    "collapsed": false
   }
  }
 ],
 "metadata": {
  "kernelspec": {
   "display_name": "Python 3",
   "language": "python",
   "name": "python3"
  },
  "language_info": {
   "codemirror_mode": {
    "name": "ipython",
    "version": 2
   },
   "file_extension": ".py",
   "mimetype": "text/x-python",
   "name": "python",
   "nbconvert_exporter": "python",
   "pygments_lexer": "ipython2",
   "version": "2.7.6"
  }
 },
 "nbformat": 4,
 "nbformat_minor": 0
}
