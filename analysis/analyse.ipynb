{
 "cells": [
  {
   "cell_type": "code",
   "execution_count": 1,
   "metadata": {
    "pycharm": {
     "name": "#%%\n"
    }
   },
   "outputs": [],
   "source": [
    "import numpy as np\n",
    "import pandas as pd\n",
    "# import seaborn as sns\n",
    "# sns.set(style='whitegrid')"
   ]
  },
  {
   "cell_type": "code",
   "execution_count": 2,
   "metadata": {
    "pycharm": {
     "name": "#%%\n"
    }
   },
   "outputs": [],
   "source": [
    "path = \"../results/svm_0608-131720/\""
   ]
  },
  {
   "cell_type": "code",
   "execution_count": 3,
   "metadata": {
    "pycharm": {
     "name": "#%%\n"
    }
   },
   "outputs": [
    {
     "data": {
      "text/plain": "    name dataset algorithm threads cluster_size converge     time  train_acc  \\\n0           rcv1   HogWild       1            1        1  1.94722   0.982669   \n1           rcv1   HogWild       1            1        1  2.12511   0.982632   \n2           rcv1   HogWild       1            1        1  1.76240   0.982520   \n3           rcv1   HogWild       1            1        1  1.41510   0.982487   \n4           rcv1   HogWild       1            1        1  1.06120   0.982226   \n..   ...     ...       ...     ...          ...      ...      ...        ...   \n125         rcv1    MyWild      16            8        1  1.52417   0.981764   \n126         rcv1    MyWild      16            8        1  1.58508   0.981278   \n127         rcv1    MyWild      16            8        1  2.07265   0.982061   \n128         rcv1    MyWild      16            8        1  4.03733   0.982158   \n129         rcv1    MyWild      16            8        1  1.90123   0.981420   \n\n     validate_acc  test_acc   epochs  epoch_time  step_size  step_decay  \\\n0        0.977226  0.977226  11.0000    0.177020        0.5    0.800000   \n1        0.977176  0.977176  12.0000    0.177092        0.5    0.800000   \n2        0.977423  0.977423  10.0000    0.176240        0.5    0.800000   \n3        0.977423  0.977423   8.0000    0.176887        0.5    0.800000   \n4        0.977967  0.977967   6.0000    0.176867        0.5    0.800000   \n..            ...       ...      ...         ...        ...         ...   \n125      0.976979  0.976979   6.4375    0.236765        0.5    0.894427   \n126      0.976386  0.976386   5.1875    0.305558        0.5    0.894427   \n127      0.977077  0.977077   8.5625    0.242062        0.5    0.894427   \n128      0.977028  0.977028  11.2500    0.358874        0.5    0.894427   \n129      0.976633  0.976633   6.7500    0.281664        0.5    0.894427   \n\n    update_delay  target_acc  \n0              0     0.97713  \n1              0     0.97713  \n2              0     0.97713  \n3              0     0.97713  \n4              0     0.97713  \n..           ...         ...  \n125           64     0.97713  \n126           64     0.97713  \n127           64     0.97713  \n128           64     0.97713  \n129           64     0.97713  \n\n[130 rows x 16 columns]",
      "text/html": "<div>\n<style scoped>\n    .dataframe tbody tr th:only-of-type {\n        vertical-align: middle;\n    }\n\n    .dataframe tbody tr th {\n        vertical-align: top;\n    }\n\n    .dataframe thead th {\n        text-align: right;\n    }\n</style>\n<table border=\"1\" class=\"dataframe\">\n  <thead>\n    <tr style=\"text-align: right;\">\n      <th></th>\n      <th>name</th>\n      <th>dataset</th>\n      <th>algorithm</th>\n      <th>threads</th>\n      <th>cluster_size</th>\n      <th>converge</th>\n      <th>time</th>\n      <th>train_acc</th>\n      <th>validate_acc</th>\n      <th>test_acc</th>\n      <th>epochs</th>\n      <th>epoch_time</th>\n      <th>step_size</th>\n      <th>step_decay</th>\n      <th>update_delay</th>\n      <th>target_acc</th>\n    </tr>\n  </thead>\n  <tbody>\n    <tr>\n      <th>0</th>\n      <td></td>\n      <td>rcv1</td>\n      <td>HogWild</td>\n      <td>1</td>\n      <td>1</td>\n      <td>1</td>\n      <td>1.94722</td>\n      <td>0.982669</td>\n      <td>0.977226</td>\n      <td>0.977226</td>\n      <td>11.0000</td>\n      <td>0.177020</td>\n      <td>0.5</td>\n      <td>0.800000</td>\n      <td>0</td>\n      <td>0.97713</td>\n    </tr>\n    <tr>\n      <th>1</th>\n      <td></td>\n      <td>rcv1</td>\n      <td>HogWild</td>\n      <td>1</td>\n      <td>1</td>\n      <td>1</td>\n      <td>2.12511</td>\n      <td>0.982632</td>\n      <td>0.977176</td>\n      <td>0.977176</td>\n      <td>12.0000</td>\n      <td>0.177092</td>\n      <td>0.5</td>\n      <td>0.800000</td>\n      <td>0</td>\n      <td>0.97713</td>\n    </tr>\n    <tr>\n      <th>2</th>\n      <td></td>\n      <td>rcv1</td>\n      <td>HogWild</td>\n      <td>1</td>\n      <td>1</td>\n      <td>1</td>\n      <td>1.76240</td>\n      <td>0.982520</td>\n      <td>0.977423</td>\n      <td>0.977423</td>\n      <td>10.0000</td>\n      <td>0.176240</td>\n      <td>0.5</td>\n      <td>0.800000</td>\n      <td>0</td>\n      <td>0.97713</td>\n    </tr>\n    <tr>\n      <th>3</th>\n      <td></td>\n      <td>rcv1</td>\n      <td>HogWild</td>\n      <td>1</td>\n      <td>1</td>\n      <td>1</td>\n      <td>1.41510</td>\n      <td>0.982487</td>\n      <td>0.977423</td>\n      <td>0.977423</td>\n      <td>8.0000</td>\n      <td>0.176887</td>\n      <td>0.5</td>\n      <td>0.800000</td>\n      <td>0</td>\n      <td>0.97713</td>\n    </tr>\n    <tr>\n      <th>4</th>\n      <td></td>\n      <td>rcv1</td>\n      <td>HogWild</td>\n      <td>1</td>\n      <td>1</td>\n      <td>1</td>\n      <td>1.06120</td>\n      <td>0.982226</td>\n      <td>0.977967</td>\n      <td>0.977967</td>\n      <td>6.0000</td>\n      <td>0.176867</td>\n      <td>0.5</td>\n      <td>0.800000</td>\n      <td>0</td>\n      <td>0.97713</td>\n    </tr>\n    <tr>\n      <th>...</th>\n      <td>...</td>\n      <td>...</td>\n      <td>...</td>\n      <td>...</td>\n      <td>...</td>\n      <td>...</td>\n      <td>...</td>\n      <td>...</td>\n      <td>...</td>\n      <td>...</td>\n      <td>...</td>\n      <td>...</td>\n      <td>...</td>\n      <td>...</td>\n      <td>...</td>\n      <td>...</td>\n    </tr>\n    <tr>\n      <th>125</th>\n      <td></td>\n      <td>rcv1</td>\n      <td>MyWild</td>\n      <td>16</td>\n      <td>8</td>\n      <td>1</td>\n      <td>1.52417</td>\n      <td>0.981764</td>\n      <td>0.976979</td>\n      <td>0.976979</td>\n      <td>6.4375</td>\n      <td>0.236765</td>\n      <td>0.5</td>\n      <td>0.894427</td>\n      <td>64</td>\n      <td>0.97713</td>\n    </tr>\n    <tr>\n      <th>126</th>\n      <td></td>\n      <td>rcv1</td>\n      <td>MyWild</td>\n      <td>16</td>\n      <td>8</td>\n      <td>1</td>\n      <td>1.58508</td>\n      <td>0.981278</td>\n      <td>0.976386</td>\n      <td>0.976386</td>\n      <td>5.1875</td>\n      <td>0.305558</td>\n      <td>0.5</td>\n      <td>0.894427</td>\n      <td>64</td>\n      <td>0.97713</td>\n    </tr>\n    <tr>\n      <th>127</th>\n      <td></td>\n      <td>rcv1</td>\n      <td>MyWild</td>\n      <td>16</td>\n      <td>8</td>\n      <td>1</td>\n      <td>2.07265</td>\n      <td>0.982061</td>\n      <td>0.977077</td>\n      <td>0.977077</td>\n      <td>8.5625</td>\n      <td>0.242062</td>\n      <td>0.5</td>\n      <td>0.894427</td>\n      <td>64</td>\n      <td>0.97713</td>\n    </tr>\n    <tr>\n      <th>128</th>\n      <td></td>\n      <td>rcv1</td>\n      <td>MyWild</td>\n      <td>16</td>\n      <td>8</td>\n      <td>1</td>\n      <td>4.03733</td>\n      <td>0.982158</td>\n      <td>0.977028</td>\n      <td>0.977028</td>\n      <td>11.2500</td>\n      <td>0.358874</td>\n      <td>0.5</td>\n      <td>0.894427</td>\n      <td>64</td>\n      <td>0.97713</td>\n    </tr>\n    <tr>\n      <th>129</th>\n      <td></td>\n      <td>rcv1</td>\n      <td>MyWild</td>\n      <td>16</td>\n      <td>8</td>\n      <td>1</td>\n      <td>1.90123</td>\n      <td>0.981420</td>\n      <td>0.976633</td>\n      <td>0.976633</td>\n      <td>6.7500</td>\n      <td>0.281664</td>\n      <td>0.5</td>\n      <td>0.894427</td>\n      <td>64</td>\n      <td>0.97713</td>\n    </tr>\n  </tbody>\n</table>\n<p>130 rows × 16 columns</p>\n</div>"
     },
     "execution_count": 3,
     "metadata": {},
     "output_type": "execute_result"
    }
   ],
   "source": [
    "full_df = pd.DataFrame(\n",
    "    columns=[\"name\", \"dataset\", \"algorithm\", \"threads\", \"cluster_size\", \"converge\", \"time\", \"train_acc\", \"validate_acc\",\n",
    "             \"test_acc\", \"epochs\", \"epoch_time\", \"step_size\", \"step_decay\", \"update_delay\", \"target_acc\"])\n",
    "for dataset in [\"rcv1\"]:\n",
    "    df = pd.read_csv(\"{}/{}.csv\".format(path, dataset), header=None, names=full_df.columns[2:])\n",
    "    df[\"dataset\"] = [dataset] * df.shape[0]\n",
    "    df[\"name\"] = [\" \"] * df.shape[0]\n",
    "    full_df = full_df.append(df, ignore_index=True)\n",
    "full_df"
   ]
  },
  {
   "cell_type": "code",
   "execution_count": 4,
   "metadata": {
    "pycharm": {
     "name": "#%%\n"
    }
   },
   "outputs": [
    {
     "data": {
      "text/plain": "                                                                                          converge  \\\nname dataset algorithm threads cluster_size step_size step_decay update_delay target_acc             \n     rcv1    HogWild   1       1            0.5       0.800000   0            0.97713          1.0   \n                       2       2            0.5       0.800000   0            0.97713          1.0   \n                       4       4            0.5       0.800000   0            0.97713          1.0   \n                       8       8            0.5       0.800000   0            0.97713          1.0   \n                       16      16           0.5       0.800000   0            0.97713          1.0   \n             HogWild++ 2       1            0.5       0.894427   64           0.97713          1.0   \n                       4       2            0.5       0.894427   64           0.97713          1.0   \n                       8       4            0.5       0.894427   64           0.97713          1.0   \n                       16      8            0.5       0.894427   64           0.97713          1.0   \n             MyWild    2       1            0.5       0.894427   64           0.97713          1.0   \n                       4       2            0.5       0.894427   64           0.97713          1.0   \n                       8       4            0.5       0.894427   64           0.97713          1.0   \n                       16      8            0.5       0.894427   64           0.97713          1.0   \n\n                                                                                              time  \\\nname dataset algorithm threads cluster_size step_size step_decay update_delay target_acc             \n     rcv1    HogWild   1       1            0.5       0.800000   0            0.97713     1.415227   \n                       2       2            0.5       0.800000   0            0.97713     1.074239   \n                       4       4            0.5       0.800000   0            0.97713     1.140418   \n                       8       8            0.5       0.800000   0            0.97713     1.511452   \n                       16      16           0.5       0.800000   0            0.97713     2.629410   \n             HogWild++ 2       1            0.5       0.894427   64           0.97713     1.888699   \n                       4       2            0.5       0.894427   64           0.97713     0.951554   \n                       8       4            0.5       0.894427   64           0.97713     1.807918   \n                       16      8            0.5       0.894427   64           0.97713     2.697961   \n             MyWild    2       1            0.5       0.894427   64           0.97713     1.524483   \n                       4       2            0.5       0.894427   64           0.97713     1.178149   \n                       8       4            0.5       0.894427   64           0.97713     2.093117   \n                       16      8            0.5       0.894427   64           0.97713     2.807177   \n\n                                                                                            epochs  \\\nname dataset algorithm threads cluster_size step_size step_decay update_delay target_acc             \n     rcv1    HogWild   1       1            0.5       0.800000   0            0.97713      8.00000   \n                       2       2            0.5       0.800000   0            0.97713      6.05000   \n                       4       4            0.5       0.800000   0            0.97713      7.70000   \n                       8       8            0.5       0.800000   0            0.97713      8.06250   \n                       16      16           0.5       0.800000   0            0.97713      9.28125   \n             HogWild++ 2       1            0.5       0.894427   64           0.97713      8.55000   \n                       4       2            0.5       0.894427   64           0.97713      8.60000   \n                       8       4            0.5       0.894427   64           0.97713      9.16250   \n                       16      8            0.5       0.894427   64           0.97713     10.27500   \n             MyWild    2       1            0.5       0.894427   64           0.97713      7.70000   \n                       4       2            0.5       0.894427   64           0.97713     10.52500   \n                       8       4            0.5       0.894427   64           0.97713     10.90000   \n                       16      8            0.5       0.894427   64           0.97713      9.71250   \n\n                                                                                          epoch_time  \\\nname dataset algorithm threads cluster_size step_size step_decay update_delay target_acc               \n     rcv1    HogWild   1       1            0.5       0.800000   0            0.97713       0.176961   \n                       2       2            0.5       0.800000   0            0.97713       0.177355   \n                       4       4            0.5       0.800000   0            0.97713       0.148104   \n                       8       8            0.5       0.800000   0            0.97713       0.185529   \n                       16      16           0.5       0.800000   0            0.97713       0.282349   \n             HogWild++ 2       1            0.5       0.894427   64           0.97713       0.219888   \n                       4       2            0.5       0.894427   64           0.97713       0.110528   \n                       8       4            0.5       0.894427   64           0.97713       0.196128   \n                       16      8            0.5       0.894427   64           0.97713       0.264939   \n             MyWild    2       1            0.5       0.894427   64           0.97713       0.197709   \n                       4       2            0.5       0.894427   64           0.97713       0.111925   \n                       8       4            0.5       0.894427   64           0.97713       0.193705   \n                       16      8            0.5       0.894427   64           0.97713       0.286717   \n\n                                                                                          test_acc  \\\nname dataset algorithm threads cluster_size step_size step_decay update_delay target_acc             \n     rcv1    HogWild   1       1            0.5       0.800000   0            0.97713     0.977384   \n                       2       2            0.5       0.800000   0            0.97713     0.977092   \n                       4       4            0.5       0.800000   0            0.97713     0.976964   \n                       8       8            0.5       0.800000   0            0.97713     0.976840   \n                       16      16           0.5       0.800000   0            0.97713     0.976929   \n             HogWild++ 2       1            0.5       0.894427   64           0.97713     0.976806   \n                       4       2            0.5       0.894427   64           0.97713     0.976712   \n                       8       4            0.5       0.894427   64           0.97713     0.976998   \n                       16      8            0.5       0.894427   64           0.97713     0.976840   \n             MyWild    2       1            0.5       0.894427   64           0.97713     0.976929   \n                       4       2            0.5       0.894427   64           0.97713     0.976865   \n                       8       4            0.5       0.894427   64           0.97713     0.976959   \n                       16      8            0.5       0.894427   64           0.97713     0.976791   \n\n                                                                                          validate_acc  \\\nname dataset algorithm threads cluster_size step_size step_decay update_delay target_acc                 \n     rcv1    HogWild   1       1            0.5       0.800000   0            0.97713         0.977384   \n                       2       2            0.5       0.800000   0            0.97713         0.977092   \n                       4       4            0.5       0.800000   0            0.97713         0.976964   \n                       8       8            0.5       0.800000   0            0.97713         0.976840   \n                       16      16           0.5       0.800000   0            0.97713         0.976929   \n             HogWild++ 2       1            0.5       0.894427   64           0.97713         0.976806   \n                       4       2            0.5       0.894427   64           0.97713         0.976712   \n                       8       4            0.5       0.894427   64           0.97713         0.976998   \n                       16      8            0.5       0.894427   64           0.97713         0.976840   \n             MyWild    2       1            0.5       0.894427   64           0.97713         0.976929   \n                       4       2            0.5       0.894427   64           0.97713         0.976865   \n                       8       4            0.5       0.894427   64           0.97713         0.976959   \n                       16      8            0.5       0.894427   64           0.97713         0.976791   \n\n                                                                                          train_acc  \nname dataset algorithm threads cluster_size step_size step_decay update_delay target_acc             \n     rcv1    HogWild   1       1            0.5       0.800000   0            0.97713      0.982330  \n                       2       2            0.5       0.800000   0            0.97713      0.982129  \n                       4       4            0.5       0.800000   0            0.97713      0.982348  \n                       8       8            0.5       0.800000   0            0.97713      0.982241  \n                       16      16           0.5       0.800000   0            0.97713      0.982394  \n             HogWild++ 2       1            0.5       0.894427   64           0.97713      0.981598  \n                       4       2            0.5       0.894427   64           0.97713      0.981794  \n                       8       4            0.5       0.894427   64           0.97713      0.981986  \n                       16      8            0.5       0.894427   64           0.97713      0.982114  \n             MyWild    2       1            0.5       0.894427   64           0.97713      0.981905  \n                       4       2            0.5       0.894427   64           0.97713      0.981794  \n                       8       4            0.5       0.894427   64           0.97713      0.982044  \n                       16      8            0.5       0.894427   64           0.97713      0.981939  ",
      "text/html": "<div>\n<style scoped>\n    .dataframe tbody tr th:only-of-type {\n        vertical-align: middle;\n    }\n\n    .dataframe tbody tr th {\n        vertical-align: top;\n    }\n\n    .dataframe thead th {\n        text-align: right;\n    }\n</style>\n<table border=\"1\" class=\"dataframe\">\n  <thead>\n    <tr style=\"text-align: right;\">\n      <th></th>\n      <th></th>\n      <th></th>\n      <th></th>\n      <th></th>\n      <th></th>\n      <th></th>\n      <th></th>\n      <th></th>\n      <th>converge</th>\n      <th>time</th>\n      <th>epochs</th>\n      <th>epoch_time</th>\n      <th>test_acc</th>\n      <th>validate_acc</th>\n      <th>train_acc</th>\n    </tr>\n    <tr>\n      <th>name</th>\n      <th>dataset</th>\n      <th>algorithm</th>\n      <th>threads</th>\n      <th>cluster_size</th>\n      <th>step_size</th>\n      <th>step_decay</th>\n      <th>update_delay</th>\n      <th>target_acc</th>\n      <th></th>\n      <th></th>\n      <th></th>\n      <th></th>\n      <th></th>\n      <th></th>\n      <th></th>\n    </tr>\n  </thead>\n  <tbody>\n    <tr>\n      <th rowspan=\"13\" valign=\"top\"></th>\n      <th rowspan=\"13\" valign=\"top\">rcv1</th>\n      <th rowspan=\"5\" valign=\"top\">HogWild</th>\n      <th>1</th>\n      <th>1</th>\n      <th>0.5</th>\n      <th>0.800000</th>\n      <th>0</th>\n      <th>0.97713</th>\n      <td>1.0</td>\n      <td>1.415227</td>\n      <td>8.00000</td>\n      <td>0.176961</td>\n      <td>0.977384</td>\n      <td>0.977384</td>\n      <td>0.982330</td>\n    </tr>\n    <tr>\n      <th>2</th>\n      <th>2</th>\n      <th>0.5</th>\n      <th>0.800000</th>\n      <th>0</th>\n      <th>0.97713</th>\n      <td>1.0</td>\n      <td>1.074239</td>\n      <td>6.05000</td>\n      <td>0.177355</td>\n      <td>0.977092</td>\n      <td>0.977092</td>\n      <td>0.982129</td>\n    </tr>\n    <tr>\n      <th>4</th>\n      <th>4</th>\n      <th>0.5</th>\n      <th>0.800000</th>\n      <th>0</th>\n      <th>0.97713</th>\n      <td>1.0</td>\n      <td>1.140418</td>\n      <td>7.70000</td>\n      <td>0.148104</td>\n      <td>0.976964</td>\n      <td>0.976964</td>\n      <td>0.982348</td>\n    </tr>\n    <tr>\n      <th>8</th>\n      <th>8</th>\n      <th>0.5</th>\n      <th>0.800000</th>\n      <th>0</th>\n      <th>0.97713</th>\n      <td>1.0</td>\n      <td>1.511452</td>\n      <td>8.06250</td>\n      <td>0.185529</td>\n      <td>0.976840</td>\n      <td>0.976840</td>\n      <td>0.982241</td>\n    </tr>\n    <tr>\n      <th>16</th>\n      <th>16</th>\n      <th>0.5</th>\n      <th>0.800000</th>\n      <th>0</th>\n      <th>0.97713</th>\n      <td>1.0</td>\n      <td>2.629410</td>\n      <td>9.28125</td>\n      <td>0.282349</td>\n      <td>0.976929</td>\n      <td>0.976929</td>\n      <td>0.982394</td>\n    </tr>\n    <tr>\n      <th rowspan=\"4\" valign=\"top\">HogWild++</th>\n      <th>2</th>\n      <th>1</th>\n      <th>0.5</th>\n      <th>0.894427</th>\n      <th>64</th>\n      <th>0.97713</th>\n      <td>1.0</td>\n      <td>1.888699</td>\n      <td>8.55000</td>\n      <td>0.219888</td>\n      <td>0.976806</td>\n      <td>0.976806</td>\n      <td>0.981598</td>\n    </tr>\n    <tr>\n      <th>4</th>\n      <th>2</th>\n      <th>0.5</th>\n      <th>0.894427</th>\n      <th>64</th>\n      <th>0.97713</th>\n      <td>1.0</td>\n      <td>0.951554</td>\n      <td>8.60000</td>\n      <td>0.110528</td>\n      <td>0.976712</td>\n      <td>0.976712</td>\n      <td>0.981794</td>\n    </tr>\n    <tr>\n      <th>8</th>\n      <th>4</th>\n      <th>0.5</th>\n      <th>0.894427</th>\n      <th>64</th>\n      <th>0.97713</th>\n      <td>1.0</td>\n      <td>1.807918</td>\n      <td>9.16250</td>\n      <td>0.196128</td>\n      <td>0.976998</td>\n      <td>0.976998</td>\n      <td>0.981986</td>\n    </tr>\n    <tr>\n      <th>16</th>\n      <th>8</th>\n      <th>0.5</th>\n      <th>0.894427</th>\n      <th>64</th>\n      <th>0.97713</th>\n      <td>1.0</td>\n      <td>2.697961</td>\n      <td>10.27500</td>\n      <td>0.264939</td>\n      <td>0.976840</td>\n      <td>0.976840</td>\n      <td>0.982114</td>\n    </tr>\n    <tr>\n      <th rowspan=\"4\" valign=\"top\">MyWild</th>\n      <th>2</th>\n      <th>1</th>\n      <th>0.5</th>\n      <th>0.894427</th>\n      <th>64</th>\n      <th>0.97713</th>\n      <td>1.0</td>\n      <td>1.524483</td>\n      <td>7.70000</td>\n      <td>0.197709</td>\n      <td>0.976929</td>\n      <td>0.976929</td>\n      <td>0.981905</td>\n    </tr>\n    <tr>\n      <th>4</th>\n      <th>2</th>\n      <th>0.5</th>\n      <th>0.894427</th>\n      <th>64</th>\n      <th>0.97713</th>\n      <td>1.0</td>\n      <td>1.178149</td>\n      <td>10.52500</td>\n      <td>0.111925</td>\n      <td>0.976865</td>\n      <td>0.976865</td>\n      <td>0.981794</td>\n    </tr>\n    <tr>\n      <th>8</th>\n      <th>4</th>\n      <th>0.5</th>\n      <th>0.894427</th>\n      <th>64</th>\n      <th>0.97713</th>\n      <td>1.0</td>\n      <td>2.093117</td>\n      <td>10.90000</td>\n      <td>0.193705</td>\n      <td>0.976959</td>\n      <td>0.976959</td>\n      <td>0.982044</td>\n    </tr>\n    <tr>\n      <th>16</th>\n      <th>8</th>\n      <th>0.5</th>\n      <th>0.894427</th>\n      <th>64</th>\n      <th>0.97713</th>\n      <td>1.0</td>\n      <td>2.807177</td>\n      <td>9.71250</td>\n      <td>0.286717</td>\n      <td>0.976791</td>\n      <td>0.976791</td>\n      <td>0.981939</td>\n    </tr>\n  </tbody>\n</table>\n</div>"
     },
     "execution_count": 4,
     "metadata": {},
     "output_type": "execute_result"
    }
   ],
   "source": [
    "df = full_df.groupby([\"name\",\n",
    "                      \"dataset\",\n",
    "                 \"algorithm\",\n",
    "                 \"threads\",\n",
    "                 \"cluster_size\",\n",
    "                 \"step_size\",\n",
    "                 \"step_decay\",\n",
    "                 \"update_delay\",\n",
    "                 \"target_acc\"]) \\\n",
    "    .agg({\"converge\": np.mean, \"time\": np.mean, \"epochs\": np.mean, \"epoch_time\": np.mean, \"test_acc\": np.mean, \"validate_acc\": np.mean, \"train_acc\": np.mean})\n",
    "df"
   ]
  },
  {
   "cell_type": "code",
   "execution_count": 5,
   "metadata": {
    "pycharm": {
     "name": "#%%\n"
    }
   },
   "outputs": [
    {
     "data": {
      "text/plain": "   name dataset  algorithm  threads  cluster_size  step_size  step_decay  \\\n0          rcv1    HogWild        1             1        0.5    0.800000   \n1          rcv1    HogWild        2             2        0.5    0.800000   \n2          rcv1    HogWild        4             4        0.5    0.800000   \n3          rcv1    HogWild        8             8        0.5    0.800000   \n4          rcv1    HogWild       16            16        0.5    0.800000   \n5          rcv1  HogWild++        2             1        0.5    0.894427   \n6          rcv1  HogWild++        4             2        0.5    0.894427   \n7          rcv1  HogWild++        8             4        0.5    0.894427   \n8          rcv1  HogWild++       16             8        0.5    0.894427   \n9          rcv1     MyWild        2             1        0.5    0.894427   \n10         rcv1     MyWild        4             2        0.5    0.894427   \n11         rcv1     MyWild        8             4        0.5    0.894427   \n12         rcv1     MyWild       16             8        0.5    0.894427   \n\n    update_delay  target_acc      time    epochs  epoch_time  test_acc  \\\n0              0     0.97713  1.415227   8.00000    0.176961  0.977384   \n1              0     0.97713  1.074239   6.05000    0.177355  0.977092   \n2              0     0.97713  1.140418   7.70000    0.148104  0.976964   \n3              0     0.97713  1.511452   8.06250    0.185529  0.976840   \n4              0     0.97713  2.629410   9.28125    0.282349  0.976929   \n5             64     0.97713  1.888699   8.55000    0.219888  0.976806   \n6             64     0.97713  0.951554   8.60000    0.110528  0.976712   \n7             64     0.97713  1.807918   9.16250    0.196128  0.976998   \n8             64     0.97713  2.697961  10.27500    0.264939  0.976840   \n9             64     0.97713  1.524483   7.70000    0.197709  0.976929   \n10            64     0.97713  1.178149  10.52500    0.111925  0.976865   \n11            64     0.97713  2.093117  10.90000    0.193705  0.976959   \n12            64     0.97713  2.807177   9.71250    0.286717  0.976791   \n\n    validate_acc  train_acc  \n0       0.977384   0.982330  \n1       0.977092   0.982129  \n2       0.976964   0.982348  \n3       0.976840   0.982241  \n4       0.976929   0.982394  \n5       0.976806   0.981598  \n6       0.976712   0.981794  \n7       0.976998   0.981986  \n8       0.976840   0.982114  \n9       0.976929   0.981905  \n10      0.976865   0.981794  \n11      0.976959   0.982044  \n12      0.976791   0.981939  ",
      "text/html": "<div>\n<style scoped>\n    .dataframe tbody tr th:only-of-type {\n        vertical-align: middle;\n    }\n\n    .dataframe tbody tr th {\n        vertical-align: top;\n    }\n\n    .dataframe thead th {\n        text-align: right;\n    }\n</style>\n<table border=\"1\" class=\"dataframe\">\n  <thead>\n    <tr style=\"text-align: right;\">\n      <th></th>\n      <th>name</th>\n      <th>dataset</th>\n      <th>algorithm</th>\n      <th>threads</th>\n      <th>cluster_size</th>\n      <th>step_size</th>\n      <th>step_decay</th>\n      <th>update_delay</th>\n      <th>target_acc</th>\n      <th>time</th>\n      <th>epochs</th>\n      <th>epoch_time</th>\n      <th>test_acc</th>\n      <th>validate_acc</th>\n      <th>train_acc</th>\n    </tr>\n  </thead>\n  <tbody>\n    <tr>\n      <th>0</th>\n      <td></td>\n      <td>rcv1</td>\n      <td>HogWild</td>\n      <td>1</td>\n      <td>1</td>\n      <td>0.5</td>\n      <td>0.800000</td>\n      <td>0</td>\n      <td>0.97713</td>\n      <td>1.415227</td>\n      <td>8.00000</td>\n      <td>0.176961</td>\n      <td>0.977384</td>\n      <td>0.977384</td>\n      <td>0.982330</td>\n    </tr>\n    <tr>\n      <th>1</th>\n      <td></td>\n      <td>rcv1</td>\n      <td>HogWild</td>\n      <td>2</td>\n      <td>2</td>\n      <td>0.5</td>\n      <td>0.800000</td>\n      <td>0</td>\n      <td>0.97713</td>\n      <td>1.074239</td>\n      <td>6.05000</td>\n      <td>0.177355</td>\n      <td>0.977092</td>\n      <td>0.977092</td>\n      <td>0.982129</td>\n    </tr>\n    <tr>\n      <th>2</th>\n      <td></td>\n      <td>rcv1</td>\n      <td>HogWild</td>\n      <td>4</td>\n      <td>4</td>\n      <td>0.5</td>\n      <td>0.800000</td>\n      <td>0</td>\n      <td>0.97713</td>\n      <td>1.140418</td>\n      <td>7.70000</td>\n      <td>0.148104</td>\n      <td>0.976964</td>\n      <td>0.976964</td>\n      <td>0.982348</td>\n    </tr>\n    <tr>\n      <th>3</th>\n      <td></td>\n      <td>rcv1</td>\n      <td>HogWild</td>\n      <td>8</td>\n      <td>8</td>\n      <td>0.5</td>\n      <td>0.800000</td>\n      <td>0</td>\n      <td>0.97713</td>\n      <td>1.511452</td>\n      <td>8.06250</td>\n      <td>0.185529</td>\n      <td>0.976840</td>\n      <td>0.976840</td>\n      <td>0.982241</td>\n    </tr>\n    <tr>\n      <th>4</th>\n      <td></td>\n      <td>rcv1</td>\n      <td>HogWild</td>\n      <td>16</td>\n      <td>16</td>\n      <td>0.5</td>\n      <td>0.800000</td>\n      <td>0</td>\n      <td>0.97713</td>\n      <td>2.629410</td>\n      <td>9.28125</td>\n      <td>0.282349</td>\n      <td>0.976929</td>\n      <td>0.976929</td>\n      <td>0.982394</td>\n    </tr>\n    <tr>\n      <th>5</th>\n      <td></td>\n      <td>rcv1</td>\n      <td>HogWild++</td>\n      <td>2</td>\n      <td>1</td>\n      <td>0.5</td>\n      <td>0.894427</td>\n      <td>64</td>\n      <td>0.97713</td>\n      <td>1.888699</td>\n      <td>8.55000</td>\n      <td>0.219888</td>\n      <td>0.976806</td>\n      <td>0.976806</td>\n      <td>0.981598</td>\n    </tr>\n    <tr>\n      <th>6</th>\n      <td></td>\n      <td>rcv1</td>\n      <td>HogWild++</td>\n      <td>4</td>\n      <td>2</td>\n      <td>0.5</td>\n      <td>0.894427</td>\n      <td>64</td>\n      <td>0.97713</td>\n      <td>0.951554</td>\n      <td>8.60000</td>\n      <td>0.110528</td>\n      <td>0.976712</td>\n      <td>0.976712</td>\n      <td>0.981794</td>\n    </tr>\n    <tr>\n      <th>7</th>\n      <td></td>\n      <td>rcv1</td>\n      <td>HogWild++</td>\n      <td>8</td>\n      <td>4</td>\n      <td>0.5</td>\n      <td>0.894427</td>\n      <td>64</td>\n      <td>0.97713</td>\n      <td>1.807918</td>\n      <td>9.16250</td>\n      <td>0.196128</td>\n      <td>0.976998</td>\n      <td>0.976998</td>\n      <td>0.981986</td>\n    </tr>\n    <tr>\n      <th>8</th>\n      <td></td>\n      <td>rcv1</td>\n      <td>HogWild++</td>\n      <td>16</td>\n      <td>8</td>\n      <td>0.5</td>\n      <td>0.894427</td>\n      <td>64</td>\n      <td>0.97713</td>\n      <td>2.697961</td>\n      <td>10.27500</td>\n      <td>0.264939</td>\n      <td>0.976840</td>\n      <td>0.976840</td>\n      <td>0.982114</td>\n    </tr>\n    <tr>\n      <th>9</th>\n      <td></td>\n      <td>rcv1</td>\n      <td>MyWild</td>\n      <td>2</td>\n      <td>1</td>\n      <td>0.5</td>\n      <td>0.894427</td>\n      <td>64</td>\n      <td>0.97713</td>\n      <td>1.524483</td>\n      <td>7.70000</td>\n      <td>0.197709</td>\n      <td>0.976929</td>\n      <td>0.976929</td>\n      <td>0.981905</td>\n    </tr>\n    <tr>\n      <th>10</th>\n      <td></td>\n      <td>rcv1</td>\n      <td>MyWild</td>\n      <td>4</td>\n      <td>2</td>\n      <td>0.5</td>\n      <td>0.894427</td>\n      <td>64</td>\n      <td>0.97713</td>\n      <td>1.178149</td>\n      <td>10.52500</td>\n      <td>0.111925</td>\n      <td>0.976865</td>\n      <td>0.976865</td>\n      <td>0.981794</td>\n    </tr>\n    <tr>\n      <th>11</th>\n      <td></td>\n      <td>rcv1</td>\n      <td>MyWild</td>\n      <td>8</td>\n      <td>4</td>\n      <td>0.5</td>\n      <td>0.894427</td>\n      <td>64</td>\n      <td>0.97713</td>\n      <td>2.093117</td>\n      <td>10.90000</td>\n      <td>0.193705</td>\n      <td>0.976959</td>\n      <td>0.976959</td>\n      <td>0.982044</td>\n    </tr>\n    <tr>\n      <th>12</th>\n      <td></td>\n      <td>rcv1</td>\n      <td>MyWild</td>\n      <td>16</td>\n      <td>8</td>\n      <td>0.5</td>\n      <td>0.894427</td>\n      <td>64</td>\n      <td>0.97713</td>\n      <td>2.807177</td>\n      <td>9.71250</td>\n      <td>0.286717</td>\n      <td>0.976791</td>\n      <td>0.976791</td>\n      <td>0.981939</td>\n    </tr>\n  </tbody>\n</table>\n</div>"
     },
     "execution_count": 5,
     "metadata": {},
     "output_type": "execute_result"
    }
   ],
   "source": [
    "df = df.loc[df[\"converge\"] == 1.0].drop(\"converge\", axis=1).reset_index()\n",
    "df"
   ]
  },
  {
   "cell_type": "code",
   "execution_count": 6,
   "metadata": {
    "pycharm": {
     "name": "#%%\n"
    }
   },
   "outputs": [
    {
     "data": {
      "text/plain": "(1.4152274999999999, 8.0, 0.1769614)"
     },
     "execution_count": 6,
     "metadata": {},
     "output_type": "execute_result"
    }
   ],
   "source": [
    "basic_time = df.iloc[0][\"time\"]\n",
    "basic_epochs = df.iloc[0][\"epochs\"]\n",
    "basic_epoch_time = df.iloc[0][\"epoch_time\"]\n",
    "basic_time, basic_epochs, basic_epoch_time"
   ]
  },
  {
   "cell_type": "code",
   "execution_count": 7,
   "metadata": {
    "pycharm": {
     "name": "#%%\n"
    }
   },
   "outputs": [
    {
     "data": {
      "text/plain": "   name dataset  algorithm  threads  cluster_size  step_size  step_decay  \\\n0          rcv1    HogWild        1             1        0.5    0.800000   \n1          rcv1    HogWild        2             2        0.5    0.800000   \n2          rcv1    HogWild        4             4        0.5    0.800000   \n3          rcv1    HogWild        8             8        0.5    0.800000   \n4          rcv1    HogWild       16            16        0.5    0.800000   \n5          rcv1  HogWild++        2             1        0.5    0.894427   \n6          rcv1  HogWild++        4             2        0.5    0.894427   \n7          rcv1  HogWild++        8             4        0.5    0.894427   \n8          rcv1  HogWild++       16             8        0.5    0.894427   \n9          rcv1     MyWild        2             1        0.5    0.894427   \n10         rcv1     MyWild        4             2        0.5    0.894427   \n11         rcv1     MyWild        8             4        0.5    0.894427   \n12         rcv1     MyWild       16             8        0.5    0.894427   \n\n    update_delay  speed_up  epochs_factor  epoch_time_speed_up  \n0              0  1.000000       1.000000             1.000000  \n1              0  1.317424       0.756250             0.997780  \n2              0  1.240972       0.962500             1.194845  \n3              0  0.936337       1.007812             0.953820  \n4              0  0.538230       1.160156             0.626746  \n5             64  0.749314       1.068750             0.804779  \n6             64  1.487280       1.075000             1.601051  \n7             64  0.782794       1.145312             0.902276  \n8             64  0.524554       1.284375             0.667934  \n9             64  0.928333       0.962500             0.895060  \n10            64  1.201230       1.315625             1.581064  \n11            64  0.676134       1.362500             0.913561  \n12            64  0.504146       1.214063             0.617198  ",
      "text/html": "<div>\n<style scoped>\n    .dataframe tbody tr th:only-of-type {\n        vertical-align: middle;\n    }\n\n    .dataframe tbody tr th {\n        vertical-align: top;\n    }\n\n    .dataframe thead th {\n        text-align: right;\n    }\n</style>\n<table border=\"1\" class=\"dataframe\">\n  <thead>\n    <tr style=\"text-align: right;\">\n      <th></th>\n      <th>name</th>\n      <th>dataset</th>\n      <th>algorithm</th>\n      <th>threads</th>\n      <th>cluster_size</th>\n      <th>step_size</th>\n      <th>step_decay</th>\n      <th>update_delay</th>\n      <th>speed_up</th>\n      <th>epochs_factor</th>\n      <th>epoch_time_speed_up</th>\n    </tr>\n  </thead>\n  <tbody>\n    <tr>\n      <th>0</th>\n      <td></td>\n      <td>rcv1</td>\n      <td>HogWild</td>\n      <td>1</td>\n      <td>1</td>\n      <td>0.5</td>\n      <td>0.800000</td>\n      <td>0</td>\n      <td>1.000000</td>\n      <td>1.000000</td>\n      <td>1.000000</td>\n    </tr>\n    <tr>\n      <th>1</th>\n      <td></td>\n      <td>rcv1</td>\n      <td>HogWild</td>\n      <td>2</td>\n      <td>2</td>\n      <td>0.5</td>\n      <td>0.800000</td>\n      <td>0</td>\n      <td>1.317424</td>\n      <td>0.756250</td>\n      <td>0.997780</td>\n    </tr>\n    <tr>\n      <th>2</th>\n      <td></td>\n      <td>rcv1</td>\n      <td>HogWild</td>\n      <td>4</td>\n      <td>4</td>\n      <td>0.5</td>\n      <td>0.800000</td>\n      <td>0</td>\n      <td>1.240972</td>\n      <td>0.962500</td>\n      <td>1.194845</td>\n    </tr>\n    <tr>\n      <th>3</th>\n      <td></td>\n      <td>rcv1</td>\n      <td>HogWild</td>\n      <td>8</td>\n      <td>8</td>\n      <td>0.5</td>\n      <td>0.800000</td>\n      <td>0</td>\n      <td>0.936337</td>\n      <td>1.007812</td>\n      <td>0.953820</td>\n    </tr>\n    <tr>\n      <th>4</th>\n      <td></td>\n      <td>rcv1</td>\n      <td>HogWild</td>\n      <td>16</td>\n      <td>16</td>\n      <td>0.5</td>\n      <td>0.800000</td>\n      <td>0</td>\n      <td>0.538230</td>\n      <td>1.160156</td>\n      <td>0.626746</td>\n    </tr>\n    <tr>\n      <th>5</th>\n      <td></td>\n      <td>rcv1</td>\n      <td>HogWild++</td>\n      <td>2</td>\n      <td>1</td>\n      <td>0.5</td>\n      <td>0.894427</td>\n      <td>64</td>\n      <td>0.749314</td>\n      <td>1.068750</td>\n      <td>0.804779</td>\n    </tr>\n    <tr>\n      <th>6</th>\n      <td></td>\n      <td>rcv1</td>\n      <td>HogWild++</td>\n      <td>4</td>\n      <td>2</td>\n      <td>0.5</td>\n      <td>0.894427</td>\n      <td>64</td>\n      <td>1.487280</td>\n      <td>1.075000</td>\n      <td>1.601051</td>\n    </tr>\n    <tr>\n      <th>7</th>\n      <td></td>\n      <td>rcv1</td>\n      <td>HogWild++</td>\n      <td>8</td>\n      <td>4</td>\n      <td>0.5</td>\n      <td>0.894427</td>\n      <td>64</td>\n      <td>0.782794</td>\n      <td>1.145312</td>\n      <td>0.902276</td>\n    </tr>\n    <tr>\n      <th>8</th>\n      <td></td>\n      <td>rcv1</td>\n      <td>HogWild++</td>\n      <td>16</td>\n      <td>8</td>\n      <td>0.5</td>\n      <td>0.894427</td>\n      <td>64</td>\n      <td>0.524554</td>\n      <td>1.284375</td>\n      <td>0.667934</td>\n    </tr>\n    <tr>\n      <th>9</th>\n      <td></td>\n      <td>rcv1</td>\n      <td>MyWild</td>\n      <td>2</td>\n      <td>1</td>\n      <td>0.5</td>\n      <td>0.894427</td>\n      <td>64</td>\n      <td>0.928333</td>\n      <td>0.962500</td>\n      <td>0.895060</td>\n    </tr>\n    <tr>\n      <th>10</th>\n      <td></td>\n      <td>rcv1</td>\n      <td>MyWild</td>\n      <td>4</td>\n      <td>2</td>\n      <td>0.5</td>\n      <td>0.894427</td>\n      <td>64</td>\n      <td>1.201230</td>\n      <td>1.315625</td>\n      <td>1.581064</td>\n    </tr>\n    <tr>\n      <th>11</th>\n      <td></td>\n      <td>rcv1</td>\n      <td>MyWild</td>\n      <td>8</td>\n      <td>4</td>\n      <td>0.5</td>\n      <td>0.894427</td>\n      <td>64</td>\n      <td>0.676134</td>\n      <td>1.362500</td>\n      <td>0.913561</td>\n    </tr>\n    <tr>\n      <th>12</th>\n      <td></td>\n      <td>rcv1</td>\n      <td>MyWild</td>\n      <td>16</td>\n      <td>8</td>\n      <td>0.5</td>\n      <td>0.894427</td>\n      <td>64</td>\n      <td>0.504146</td>\n      <td>1.214063</td>\n      <td>0.617198</td>\n    </tr>\n  </tbody>\n</table>\n</div>"
     },
     "execution_count": 7,
     "metadata": {},
     "output_type": "execute_result"
    }
   ],
   "source": [
    "df[\"speed_up\"] = basic_time / df[\"time\"]\n",
    "df[\"epochs_factor\"] = df[\"epochs\"] / basic_epochs\n",
    "df[\"epoch_time_speed_up\"] = basic_epoch_time / df[\"epoch_time\"]\n",
    "df = df.drop([\"time\", \"epochs\", \"epoch_time\"], axis=1)\n",
    "df = df.drop([\"target_acc\", \"test_acc\", \"validate_acc\", \"train_acc\"], axis=1)\n",
    "df"
   ]
  },
  {
   "cell_type": "code",
   "execution_count": 7,
   "metadata": {
    "pycharm": {
     "name": "#%%\n"
    }
   },
   "outputs": [],
   "source": []
  },
  {
   "cell_type": "code",
   "execution_count": 7,
   "metadata": {
    "pycharm": {
     "name": "#%%\n"
    }
   },
   "outputs": [],
   "source": []
  }
 ],
 "metadata": {
  "kernelspec": {
   "display_name": "Python 3 (ipykernel)",
   "language": "python",
   "name": "python3"
  },
  "language_info": {
   "codemirror_mode": {
    "name": "ipython",
    "version": 3
   },
   "file_extension": ".py",
   "mimetype": "text/x-python",
   "name": "python",
   "nbconvert_exporter": "python",
   "pygments_lexer": "ipython3",
   "version": "3.9.10"
  }
 },
 "nbformat": 4,
 "nbformat_minor": 1
}