{
 "cells": [
  {
   "cell_type": "code",
   "execution_count": null,
   "metadata": {
    "pycharm": {
     "name": "#%%\n"
    }
   },
   "outputs": [],
   "source": [
    "import numpy as np\n",
    "import pandas as pd\n",
    "import seaborn as sns\n",
    "\n",
    "sns.set(style='whitegrid')"
   ]
  },
  {
   "cell_type": "code",
   "execution_count": null,
   "metadata": {
    "pycharm": {
     "name": "#%%\n"
    }
   },
   "outputs": [],
   "source": [
    "from common import *"
   ]
  },
  {
   "cell_type": "code",
   "execution_count": null,
   "metadata": {
    "pycharm": {
     "name": "#%%\n"
    }
   },
   "outputs": [],
   "source": [
    "path = \"results/svm_0606-115947\""
   ]
  },
  {
   "cell_type": "code",
   "execution_count": null,
   "metadata": {
    "pycharm": {
     "name": "#%%\n"
    }
   },
   "outputs": [],
   "source": [
    "full_df = pd.DataFrame(\n",
    "    columns=[\"dataset\", \"algorithm\", \"threads\", \"cluster_size\", \"converge\", \"time\", \"train_acc\", \"validate_acc\",\n",
    "             \"test_acc\", \"epochs\", \"epoch_time\", \"step_size\", \"step_decay\", \"update_delay\", \"target_acc\"])\n",
    "for dataset in [\"rcv1\"]:\n",
    "    df = pd.read_csv(\"{}/{}.csv\".format(path, dataset), header=None, names=full_df.columns[1:])\n",
    "    df[\"dataset\"] = [dataset] * df.shape[0]\n",
    "    full_df = full_df.append(df, ignore_index=True)\n",
    "full_df[\"epochs\"] /= full_df[\"threads\"]\n",
    "full_df"
   ]
  },
  {
   "cell_type": "code",
   "execution_count": null,
   "metadata": {
    "pycharm": {
     "name": "#%%\n"
    }
   },
   "outputs": [],
   "source": [
    "df = full_df.groupby([\"dataset\",\n",
    "                 \"algorithm\",\n",
    "                 \"threads\",\n",
    "                 \"cluster_size\",\n",
    "                 \"step_size\",\n",
    "                 \"step_decay\",\n",
    "                 \"update_delay\",\n",
    "                 \"target_acc\"]) \\\n",
    "    .agg({\"converge\": np.mean, \"time\": np.mean, \"epochs\": np.mean, \"epoch_time\": np.mean, \"test_acc\": np.mean, \"validate_acc\": np.mean, \"train_acc\": np.mean})\n",
    "df = df.loc[df[\"converge\"] == 1.0].drop(\"converge\", axis=1).reset_index()\n",
    "df"
   ]
  },
  {
   "cell_type": "code",
   "execution_count": null,
   "metadata": {
    "pycharm": {
     "name": "#%%\n"
    }
   },
   "outputs": [],
   "source": [
    "basic_time = df.iloc[0][\"time\"]\n",
    "basic_epochs = df.iloc[0][\"epochs\"]\n",
    "basic_epoch_time = df.iloc[0][\"epoch_time\"]\n",
    "basic_time, basic_epochs, basic_epoch_time"
   ]
  },
  {
   "cell_type": "code",
   "execution_count": null,
   "metadata": {
    "pycharm": {
     "name": "#%%\n"
    }
   },
   "outputs": [],
   "source": [
    "df[\"speed_up\"] = basic_time / df[\"time\"]\n",
    "df[\"epochs_factor\"] = df[\"epochs\"] / basic_epochs\n",
    "df[\"epoch_time_speed_up\"] = basic_epoch_time / df[\"epoch_time\"]\n",
    "df = df.drop([\"time\", \"epochs\", \"epoch_time\"], axis=1)\n",
    "df = df.drop([\"target_acc\", \"test_acc\", \"validate_acc\", \"train_acc\"], axis=1)\n",
    "df"
   ]
  },
  {
   "cell_type": "code",
   "execution_count": null,
   "metadata": {
    "pycharm": {
     "name": "#%%\n"
    }
   },
   "outputs": [],
   "source": []
  },
  {
   "cell_type": "code",
   "execution_count": null,
   "metadata": {
    "pycharm": {
     "name": "#%%\n"
    }
   },
   "outputs": [],
   "source": []
  }
 ],
 "metadata": {
  "kernelspec": {
   "display_name": "Python 3 (ipykernel)",
   "language": "python",
   "name": "python3"
  },
  "language_info": {
   "codemirror_mode": {
    "name": "ipython",
    "version": 3
   },
   "file_extension": ".py",
   "mimetype": "text/x-python",
   "name": "python",
   "nbconvert_exporter": "python",
   "pygments_lexer": "ipython3",
   "version": "3.9.10"
  }
 },
 "nbformat": 4,
 "nbformat_minor": 1
}